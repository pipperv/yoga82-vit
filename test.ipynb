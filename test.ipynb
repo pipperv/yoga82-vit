{
 "cells": [
  {
   "cell_type": "code",
   "execution_count": 1,
   "metadata": {},
   "outputs": [],
   "source": [
    "import vit\n",
    "from dataset import Yoga82\n",
    "from dataset_utils import calculate_mean_std, get_train, get_test\n",
    "from train import train\n",
    "from eval import model_analysis\n",
    "import torch\n",
    "from torch import nn, optim\n",
    "from torchvision import transforms\n",
    "from torch.utils.data import DataLoader"
   ]
  },
  {
   "cell_type": "code",
   "execution_count": 8,
   "metadata": {},
   "outputs": [],
   "source": [
    "# Settings\n",
    "config = {\n",
    "    \"num_classes\": 82,\n",
    "    \"img_size\": 144,\n",
    "    \"img_channels\": 3,\n",
    "    \"patch_size\": 12,\n",
    "    \"hidden_size\": 2048,\n",
    "    \"num_hidden_layers\": 12,\n",
    "    \"num_attention_heads\": 12,\n",
    "    \"mlp_hidden_size\": 2048,\n",
    "    \"initializer_range\": 0.02,\n",
    "    \"learning_rate\": 1e-7,\n",
    "    \"betas\": (0.9, 0.999),\n",
    "    \"weight_decay\": 0.3,\n",
    "    \"batch_size\": 32,\n",
    "    \"device\": 'cuda',\n",
    "    \"epochs\": 100,\n",
    "    \"hierarchy_level\": 1,\n",
    "    \"load_pretrained\": False,\n",
    "    \"transfer_learning\": False,\n",
    "}"
   ]
  },
  {
   "cell_type": "code",
   "execution_count": 3,
   "metadata": {},
   "outputs": [
    {
     "name": "stdout",
     "output_type": "stream",
     "text": [
      "Train Dataset Total: 14976\n",
      "Test Dataset Total: 5131\n"
     ]
    }
   ],
   "source": [
    "X_train, y_train_6, y_train_20, y_train_82 = get_train()\n",
    "X_test, y_test_6, y_test_20, y_test_82 = get_test()\n",
    "\n",
    "if config[\"hierarchy_level\"] == 1:\n",
    "    y_train = y_train_6\n",
    "    y_test = y_test_6\n",
    "    config[\"num_classes\"] = 6\n",
    "elif config[\"hierarchy_level\"] == 2:\n",
    "    y_train = y_train_20\n",
    "    y_test = y_test_20\n",
    "    config[\"num_classes\"] = 20\n",
    "elif config[\"hierarchy_level\"] == 3:\n",
    "    y_train = y_train_82\n",
    "    y_test = y_test_82\n",
    "    config[\"num_classes\"] = 82"
   ]
  },
  {
   "cell_type": "code",
   "execution_count": 4,
   "metadata": {},
   "outputs": [
    {
     "name": "stdout",
     "output_type": "stream",
     "text": [
      "Mean: [0.6732, 0.6525, 0.6263]\n",
      "Std: [0.2339, 0.236, 0.2378]\n"
     ]
    },
    {
     "name": "stderr",
     "output_type": "stream",
     "text": [
      "c:\\Users\\felip\\anaconda3\\envs\\vit\\lib\\site-packages\\torchvision\\transforms\\functional.py:1603: UserWarning: The default value of the antialias parameter of all the resizing transforms (Resize(), RandomResizedCrop(), etc.) will change from None to True in v0.17, in order to be consistent across the PIL and Tensor backends. To suppress this warning, directly pass antialias=True (recommended, future default), antialias=None (current default, which means False for Tensors and True for PIL), or antialias=False (only works on Tensors - PIL will still use antialiasing). This also applies if you are using the inference transforms from the models weights: update the call to weights.transforms(antialias=True).\n",
      "  warnings.warn(\n"
     ]
    }
   ],
   "source": [
    "# Prepare Dataset\n",
    "\n",
    "# Calculate mean and std from X_train for Normalization,\n",
    "# Takes a while, so save it after you do it so it's faster next time :3\n",
    "\n",
    "# mean, std = calculate_mean_std(X_train)\n",
    "mean = [0.6732, 0.6525, 0.6263]\n",
    "std = [0.2339, 0.2360, 0.2378]\n",
    "\n",
    "\n",
    "print(\"Mean:\", mean)\n",
    "print(\"Std:\", std)\n",
    "\n",
    "# Tranformations for Data Augmentation and Normalize\n",
    "\n",
    "transform = transforms.Compose([\n",
    "    #transforms.Resize((config['img_size'], config['img_size'])),\n",
    "    transforms.RandomHorizontalFlip(),\n",
    "    #transforms.ToTensor(), #It's already loaded as a tensor, so it's not necesary\n",
    "    transforms.Normalize(mean=mean, std=std),\n",
    "])\n",
    "\n",
    "# Takes between 5 and 6 minutes for me uwu\n",
    "train_dataset = Yoga82(X_train, y_train, transform=transform, resize=config[\"img_size\"], num_channels=config[\"img_channels\"])\n",
    "test_dataset = Yoga82(X_test, y_test, transform=transform, resize=config[\"img_size\"], num_channels=config[\"img_channels\"])"
   ]
  },
  {
   "cell_type": "code",
   "execution_count": 9,
   "metadata": {},
   "outputs": [],
   "source": [
    "# Create a Sampler to Balance Dataset\n",
    "from sklearn.utils.class_weight import compute_class_weight\n",
    "from torch.utils.data.sampler import WeightedRandomSampler\n",
    "\n",
    "class_weights = compute_class_weight('balanced', classes=range(max(y_train)+1), y=y_train)\n",
    "class_weights = 1.0  /torch.tensor(class_weights, dtype=torch.float32)\n",
    "sample_weights = class_weights[y_train]\n",
    "sampler = WeightedRandomSampler(weights=sample_weights, num_samples=len(sample_weights), replacement=True)\n",
    "\n",
    "#Create model and training parameters\n",
    "device = config[\"device\"]\n",
    "batch_size = config[\"batch_size\"]\n",
    "lr = config[\"learning_rate\"]\n",
    "betas = config[\"betas\"]\n",
    "weight_decay = config[\"weight_decay\"]\n",
    "model = vit.ViT(config).to(device)\n",
    "criterion = nn.CrossEntropyLoss()\n",
    "#optimizer = optim.SGD(model.parameters(), lr=lr)\n",
    "optimizer = optim.Adam(model.parameters(), lr=lr, betas=betas, weight_decay=weight_decay)\n",
    "train_dataloader = DataLoader(train_dataset, batch_size=batch_size, sampler=sampler)\n",
    "test_dataloader = DataLoader(test_dataset, batch_size=batch_size, shuffle=True)"
   ]
  },
  {
   "cell_type": "code",
   "execution_count": 10,
   "metadata": {},
   "outputs": [],
   "source": [
    "if config[\"load_pretrained\"]:\n",
    "    checkpoint = torch.load('model_82_classes.pth')\n",
    "\n",
    "    #Remove Clasification MLP W and B for Transfer Learning\n",
    "    if config[\"transfer_learning\"]:\n",
    "        checkpoint['model_state_dict'].pop('cls_layer.weight', None)\n",
    "        checkpoint['model_state_dict'].pop('cls_layer.bias', None)\n",
    "\n",
    "    model.load_state_dict(checkpoint['model_state_dict'], strict=False)"
   ]
  },
  {
   "cell_type": "code",
   "execution_count": 11,
   "metadata": {},
   "outputs": [
    {
     "data": {
      "text/html": [
       "Finishing last run (ID:v4pym9c6) before initializing another..."
      ],
      "text/plain": [
       "<IPython.core.display.HTML object>"
      ]
     },
     "metadata": {},
     "output_type": "display_data"
    },
    {
     "data": {
      "text/html": [
       "<style>\n",
       "    table.wandb td:nth-child(1) { padding: 0 10px; text-align: left ; width: auto;} td:nth-child(2) {text-align: left ; width: 100%}\n",
       "    .wandb-row { display: flex; flex-direction: row; flex-wrap: wrap; justify-content: flex-start; width: 100% }\n",
       "    .wandb-col { display: flex; flex-direction: column; flex-basis: 100%; flex: 1; padding: 10px; }\n",
       "    </style>\n",
       "<div class=\"wandb-row\"><div class=\"wandb-col\"><h3>Run history:</h3><br/><table class=\"wandb\"><tr><td>Train Loss per Step</td><td>█▁</td></tr></table><br/></div><div class=\"wandb-col\"><h3>Run summary:</h3><br/><table class=\"wandb\"><tr><td>Train Loss per Step</td><td>22.62761</td></tr></table><br/></div></div>"
      ],
      "text/plain": [
       "<IPython.core.display.HTML object>"
      ]
     },
     "metadata": {},
     "output_type": "display_data"
    },
    {
     "data": {
      "text/html": [
       " View run <strong style=\"color:#cdcd00\">run</strong> at: <a href='https://wandb.ai/pipper/yoga82-vit/runs/v4pym9c6' target=\"_blank\">https://wandb.ai/pipper/yoga82-vit/runs/v4pym9c6</a><br/>Synced 5 W&B file(s), 0 media file(s), 0 artifact file(s) and 0 other file(s)"
      ],
      "text/plain": [
       "<IPython.core.display.HTML object>"
      ]
     },
     "metadata": {},
     "output_type": "display_data"
    },
    {
     "data": {
      "text/html": [
       "Find logs at: <code>.\\wandb\\run-20231217_071703-v4pym9c6\\logs</code>"
      ],
      "text/plain": [
       "<IPython.core.display.HTML object>"
      ]
     },
     "metadata": {},
     "output_type": "display_data"
    },
    {
     "data": {
      "text/html": [
       "Successfully finished last run (ID:v4pym9c6). Initializing new run:<br/>"
      ],
      "text/plain": [
       "<IPython.core.display.HTML object>"
      ]
     },
     "metadata": {},
     "output_type": "display_data"
    },
    {
     "data": {
      "text/html": [
       "Tracking run with wandb version 0.16.1"
      ],
      "text/plain": [
       "<IPython.core.display.HTML object>"
      ]
     },
     "metadata": {},
     "output_type": "display_data"
    },
    {
     "data": {
      "text/html": [
       "Run data is saved locally in <code>c:\\Users\\felip\\Documents\\PythonProyects\\yoga82-vit\\wandb\\run-20231217_072006-h68r9msv</code>"
      ],
      "text/plain": [
       "<IPython.core.display.HTML object>"
      ]
     },
     "metadata": {},
     "output_type": "display_data"
    },
    {
     "data": {
      "text/html": [
       "Syncing run <strong><a href='https://wandb.ai/pipper/yoga82-vit/runs/h68r9msv' target=\"_blank\">run</a></strong> to <a href='https://wandb.ai/pipper/yoga82-vit' target=\"_blank\">Weights & Biases</a> (<a href='https://wandb.me/run' target=\"_blank\">docs</a>)<br/>"
      ],
      "text/plain": [
       "<IPython.core.display.HTML object>"
      ]
     },
     "metadata": {},
     "output_type": "display_data"
    },
    {
     "data": {
      "text/html": [
       " View project at <a href='https://wandb.ai/pipper/yoga82-vit' target=\"_blank\">https://wandb.ai/pipper/yoga82-vit</a>"
      ],
      "text/plain": [
       "<IPython.core.display.HTML object>"
      ]
     },
     "metadata": {},
     "output_type": "display_data"
    },
    {
     "data": {
      "text/html": [
       " View run at <a href='https://wandb.ai/pipper/yoga82-vit/runs/h68r9msv' target=\"_blank\">https://wandb.ai/pipper/yoga82-vit/runs/h68r9msv</a>"
      ],
      "text/plain": [
       "<IPython.core.display.HTML object>"
      ]
     },
     "metadata": {},
     "output_type": "display_data"
    },
    {
     "name": "stderr",
     "output_type": "stream",
     "text": [
      "  0%|          | 0/468 [00:00<?, ?it/s]"
     ]
    }
   ],
   "source": [
    "train(model, train_dataloader, optimizer, criterion, config)"
   ]
  },
  {
   "cell_type": "code",
   "execution_count": null,
   "metadata": {},
   "outputs": [
    {
     "data": {
      "text/plain": [
       "<All keys matched successfully>"
      ]
     },
     "execution_count": 8,
     "metadata": {},
     "output_type": "execute_result"
    }
   ],
   "source": [
    "#checkpoint = torch.load('model_checkpoint_epoch_5.pth')\n",
    "\n",
    "#model.load_state_dict(checkpoint['model_state_dict'], strict=False)"
   ]
  },
  {
   "cell_type": "code",
   "execution_count": null,
   "metadata": {},
   "outputs": [
    {
     "name": "stderr",
     "output_type": "stream",
     "text": [
      "100%|██████████| 468/468 [05:52<00:00,  1.33it/s]"
     ]
    },
    {
     "name": "stdout",
     "output_type": "stream",
     "text": [
      "\n",
      " Accuracy for Validation Dataset: 0.3816773504273504\n"
     ]
    },
    {
     "name": "stderr",
     "output_type": "stream",
     "text": [
      "\n"
     ]
    },
    {
     "data": {
      "text/plain": [
       "0.3816773504273504"
      ]
     },
     "execution_count": 9,
     "metadata": {},
     "output_type": "execute_result"
    },
    {
     "data": {
      "image/png": "[encoded data removed]",
      "text/plain": [
       "<Figure size 2500x2500 with 2 Axes>"
      ]
     },
     "metadata": {},
     "output_type": "display_data"
    }
   ],
   "source": [
    "model_analysis(model, train_dataloader)"
   ]
  },
  {
   "cell_type": "code",
   "execution_count": null,
   "metadata": {},
   "outputs": [],
   "source": []
  }
 ],
 "metadata": {
  "kernelspec": {
   "display_name": "vit",
   "language": "python",
   "name": "python3"
  },
  "language_info": {
   "codemirror_mode": {
    "name": "ipython",
    "version": 3
   },
   "file_extension": ".py",
   "mimetype": "text/x-python",
   "name": "python",
   "nbconvert_exporter": "python",
   "pygments_lexer": "ipython3",
   "version": "3.9.18"
  }
 },
 "nbformat": 4,
 "nbformat_minor": 2
}
